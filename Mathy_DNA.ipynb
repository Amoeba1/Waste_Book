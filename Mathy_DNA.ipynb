{
 "cells": [
  {
   "cell_type": "code",
   "execution_count": 1,
   "metadata": {},
   "outputs": [],
   "source": [
    "import numpy as np\n",
    "import pandas as pd\n",
    "import matplotlib.pyplot as plt\n",
    "import matplotlib.image as img\n",
    "import cv2\n",
    "import random\n",
    "import os"
   ]
  },
  {
   "cell_type": "code",
   "execution_count": 70,
   "metadata": {},
   "outputs": [
    {
     "data": {
      "text/plain": [
       "[0,\n",
       " 1,\n",
       " 1,\n",
       " 2,\n",
       " 3,\n",
       " 5,\n",
       " 8,\n",
       " 13,\n",
       " 21,\n",
       " 34,\n",
       " 55,\n",
       " 89,\n",
       " 144,\n",
       " 233,\n",
       " 377,\n",
       " 610,\n",
       " 987,\n",
       " 1597,\n",
       " 2584,\n",
       " 4181,\n",
       " 6765,\n",
       " 10946,\n",
       " 17711,\n",
       " 28657]"
      ]
     },
     "execution_count": 70,
     "metadata": {},
     "output_type": "execute_result"
    }
   ],
   "source": [
    "def fib_seq(N,seq=[]):\n",
    "    if N == 0:\n",
    "        seq = [0]\n",
    "    if N == 1:\n",
    "        seq = [0,1]\n",
    "    if N > 1:\n",
    "        seq = [0,1]\n",
    "        for i in range(2,N):\n",
    "            next = seq[len(seq)-1] + seq[len(seq)-2]\n",
    "            seq.append(next)\n",
    "    return seq\n",
    "        \n",
    "\n",
    "\n",
    "def DNA_nmbr(base_values,grouped_by, number_set):\n",
    "    numerical_values = list(vals.values())\n",
    "    max_chr = max(numerical_values)\n",
    "    bases = list(vals.keys())\n",
    "    for number in range(0,number_set+1):\n",
    "        numb_str = str(number)\n",
    "        for chrctr in numb_str[::-1]:\n",
    "            if len(numb_str) == 1:\n",
    "                if int(chrctr) <= max_chr:\n",
    "                    digit = bases[numerical_values.index(int(chrctr))]\n",
    "                    frt_digits = ''\n",
    "                    for digits in range(1,grouped_by):\n",
    "                        frt_digits += bases[numerical_values.index(0)]\n",
    "                    digit = frt_digits + digit\n",
    "                elif int(chrctr) > max_chr:\n",
    "                    remainder = int(chrctr) % max\n",
    "            \n",
    "\n",
    "    return digit\n",
    "        \n",
    "\n",
    "def mkDNA(length, alphabet):\n",
    "    if alphabet == 'STD':\n",
    "        bits = 'ATGC'\n",
    "    else:\n",
    "        bits = alphabet\n",
    "        \n",
    "    max_numb = len(bits)\n",
    "    lst = []\n",
    "    for i in range(0,max_numb):\n",
    "        lst.append(i)\n",
    "    \n",
    "    DNA = ''\n",
    "    for i in range(0,length):\n",
    "        select = random.choice(lst)\n",
    "        base = bits[select]\n",
    "        DNA += base\n",
    "    \n",
    "    return DNA\n",
    "\n",
    "fib_seq(24)\n",
    "\n",
    "# A = 0\n",
    "# T = 1\n",
    "# C = 2\n",
    "# G = 3\n",
    "# AAAA = 0, AAAT = 1, AAAC = 0002, ATGC = 0132"
   ]
  },
  {
   "cell_type": "code",
   "execution_count": 49,
   "metadata": {},
   "outputs": [
    {
     "data": {
      "text/plain": [
       "'CCA'"
      ]
     },
     "execution_count": 49,
     "metadata": {},
     "output_type": "execute_result"
    }
   ],
   "source": [
    "vals = {}\n",
    "vals['A'] = 3\n",
    "vals['T'] = 2\n",
    "vals['G'] = 1\n",
    "vals['C'] = 0\n",
    "\n",
    "DNA_nmbr(vals,3,3)"
   ]
  }
 ],
 "metadata": {
  "kernelspec": {
   "display_name": "Python 3",
   "language": "python",
   "name": "python3"
  },
  "language_info": {
   "codemirror_mode": {
    "name": "ipython",
    "version": 3
   },
   "file_extension": ".py",
   "mimetype": "text/x-python",
   "name": "python",
   "nbconvert_exporter": "python",
   "pygments_lexer": "ipython3",
   "version": "3.7.1"
  }
 },
 "nbformat": 4,
 "nbformat_minor": 2
}
