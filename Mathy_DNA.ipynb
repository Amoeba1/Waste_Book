{
 "cells": [
  {
   "cell_type": "code",
   "execution_count": 2,
   "metadata": {},
   "outputs": [],
   "source": [
    "import numpy as np\n",
    "import pandas as pd\n",
    "import matplotlib.pyplot as plt\n",
    "import matplotlib.image as img\n",
    "import cv2\n",
    "import random\n",
    "import os"
   ]
  },
  {
   "cell_type": "code",
   "execution_count": 3,
   "metadata": {},
   "outputs": [
    {
     "data": {
      "text/plain": [
       "'AACAATCATCGTTGG'"
      ]
     },
     "execution_count": 3,
     "metadata": {},
     "output_type": "execute_result"
    }
   ],
   "source": [
    "def mkDNA(length, alphabet):\n",
    "    if alphabet == 'STD':\n",
    "        bits = 'ATGC'\n",
    "    else:\n",
    "        bits = alphabet\n",
    "        \n",
    "    max_numb = len(bits)\n",
    "    lst = []\n",
    "    for i in range(0,max_numb):\n",
    "        lst.append(i)\n",
    "    \n",
    "    DNA = ''\n",
    "    for i in range(0,length):\n",
    "        select = random.choice(lst)\n",
    "        base = bits[select]\n",
    "        DNA += base\n",
    "    \n",
    "    return DNA\n",
    "\n",
    "mkDNA(15,'STD')\n",
    "\n",
    "# A = 0\n",
    "# T = 1\n",
    "# C = 2\n",
    "# G = 3\n",
    "# AAAA = 0, AAAT = 1, AAAC = 0002, ATGC = 0132"
   ]
  }
 ],
 "metadata": {
  "kernelspec": {
   "display_name": "Python 3",
   "language": "python",
   "name": "python3"
  },
  "language_info": {
   "codemirror_mode": {
    "name": "ipython",
    "version": 3
   },
   "file_extension": ".py",
   "mimetype": "text/x-python",
   "name": "python",
   "nbconvert_exporter": "python",
   "pygments_lexer": "ipython3",
   "version": "3.7.1"
  }
 },
 "nbformat": 4,
 "nbformat_minor": 2
}
