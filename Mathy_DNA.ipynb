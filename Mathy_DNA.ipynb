{
 "cells": [
  {
   "cell_type": "code",
   "execution_count": 218,
   "metadata": {},
   "outputs": [],
   "source": [
    "import numpy as np\n",
    "import pandas as pd\n",
    "import matplotlib.pyplot as plt\n",
    "import matplotlib.image as img\n",
    "import cv2\n",
    "import random\n",
    "import os"
   ]
  },
  {
   "cell_type": "code",
   "execution_count": 273,
   "metadata": {},
   "outputs": [
    {
     "data": {
      "text/plain": [
       "('GAA', [2])"
      ]
     },
     "execution_count": 273,
     "metadata": {},
     "output_type": "execute_result"
    }
   ],
   "source": [
    "def DNA_nmbrs(bases, seq_length):\n",
    "    nucleotide = ''\n",
    "    base_combos = []\n",
    "    count = 0\n",
    "    while len(base_combos) != len(bases)**seq_length:\n",
    "        while len(nucleotide) < seq_length and len(nucleotide) != seq_length:\n",
    "            base = random.choice(bases)\n",
    "            nucleotide += base\n",
    "        if nucleotide not in base_combos:\n",
    "            base_combos.append((count, nucleotide))\n",
    "            nucleotide = ''\n",
    "            count += 1\n",
    "        if nucleotide in base_combos:\n",
    "            nucleotide = ''\n",
    "    return len(base_combos), base_combos\n",
    "                \n",
    "        \n",
    "def fib_seq(N,seq=[]):\n",
    "    if N == 0:\n",
    "        seq = [0]\n",
    "    elif N == 1:\n",
    "        seq = [0,1]\n",
    "    elif N > 1:\n",
    "        seq = [0,1]\n",
    "        for i in range(2,N):\n",
    "            next = seq[len(seq)-1] + seq[len(seq)-2]\n",
    "            seq.append(next)\n",
    "    return seq\n",
    "   \n",
    "        \n",
    "def mkDNA(length, alphabet):\n",
    "    if alphabet == 'STD':\n",
    "        bits = 'ATGC'\n",
    "    else:\n",
    "        bits = alphabet\n",
    "        \n",
    "    max_numb = len(bits)\n",
    "    lst = []\n",
    "    for i in range(0,max_numb):\n",
    "        lst.append(i)\n",
    "    \n",
    "    DNA = ''\n",
    "    for i in range(0,length):\n",
    "        select = random.choice(lst)\n",
    "        base = bits[select]\n",
    "        DNA += base\n",
    "    \n",
    "    return DNA\n",
    "\n",
    "def music_notes(alphabet):\n",
    "    if alphabet == 'STD':\n",
    "        alphabet = ['C','C#','D','D#','E','F','F#','G','G#','A','A#','B']\n",
    "    if alphabet == 'Expanded':\n",
    "        alphabet = ['R','C','C#','D','D#','E','E#','F','F#','G','G#','A','A#','B','B#','X']\n",
    "    music = []\n",
    "    for i in range(0, len(alphabet)):\n",
    "        music.append((i,alphabet[i]))\n",
    "    return music\n",
    "\n",
    "def quartenary(nmbr):\n",
    "    nmbr_dict = {0: \"A\", 1: \"C\", 2: \"G\", 3: \"T\"}\n",
    "    memory = []\n",
    "    nucleotides = []\n",
    "    if nmbr <= 3:\n",
    "            remainder = nmbr % 4\n",
    "            memory.append(remainder)\n",
    "    else:\n",
    "        fours = nmbr // 4\n",
    "        if fours <= 3:\n",
    "            memory.append(fours)\n",
    "            memory.append(nmbr % 4)\n",
    "        elif fours > 3:\n",
    "            sixteens = nmbr // 16\n",
    "            memory.append(sixteens)\n",
    "            remainder = nmbr % 16\n",
    "            if remainder == 0:\n",
    "                memory.append(0)\n",
    "                memory.append(0)\n",
    "            elif remainder > 0:\n",
    "                memory.append(round(remainder // 4))\n",
    "                memory.append(remainder % 4)\n",
    "    \n",
    "    for i in memory:\n",
    "        nucleotide = nmbr_dict[i]\n",
    "        nucleotides.append(nucleotide)\n",
    "    \n",
    "    codon = ''\n",
    "    for i in nucleotides:\n",
    "        codon += i\n",
    "        \n",
    "    while len(codon) < 3:\n",
    "        codon += nmbr_dict[0]\n",
    "        \n",
    "    return codon, memory\n",
    "        \n",
    "    \n",
    "fib_seq(64)\n",
    "DNA_nmbrs(['A','T','C','G'],2)\n",
    "mkDNA(24,'STD')\n",
    "quartenary(2)\n",
    "\n",
    "# A = 0\n",
    "# T = 1\n",
    "# C = 2\n",
    "# G = 3\n",
    "# AAAA = 0, AAAT = 1, AAAC = 0002, ATGC = 0132"
   ]
  },
  {
   "cell_type": "code",
   "execution_count": 277,
   "metadata": {},
   "outputs": [
    {
     "data": {
      "text/plain": [
       "[(0, 'R'),\n",
       " (1, 'C'),\n",
       " (2, 'C#'),\n",
       " (3, 'D'),\n",
       " (4, 'D#'),\n",
       " (5, 'E'),\n",
       " (6, 'E#'),\n",
       " (7, 'F'),\n",
       " (8, 'F#'),\n",
       " (9, 'G'),\n",
       " (10, 'G#'),\n",
       " (11, 'A'),\n",
       " (12, 'A#'),\n",
       " (13, 'B'),\n",
       " (14, 'B#'),\n",
       " (15, 'X')]"
      ]
     },
     "execution_count": 277,
     "metadata": {},
     "output_type": "execute_result"
    }
   ],
   "source": [
    "\n",
    "        \n",
    "quartenary(63)\n",
    "\n",
    "codons = []\n",
    "for i in range(0,64):\n",
    "    codons.append((i,quartenary(i)[0]))\n",
    "\n",
    "music_notes('Expanded')"
   ]
  }
 ],
 "metadata": {
  "kernelspec": {
   "display_name": "Python 3",
   "language": "python",
   "name": "python3"
  },
  "language_info": {
   "codemirror_mode": {
    "name": "ipython",
    "version": 3
   },
   "file_extension": ".py",
   "mimetype": "text/x-python",
   "name": "python",
   "nbconvert_exporter": "python",
   "pygments_lexer": "ipython3",
   "version": "3.7.1"
  }
 },
 "nbformat": 4,
 "nbformat_minor": 2
}
