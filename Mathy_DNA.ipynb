{
 "cells": [
  {
   "cell_type": "code",
   "execution_count": 1,
   "metadata": {},
   "outputs": [],
   "source": [
    "import numpy as np\n",
    "import pandas as pd\n",
    "import matplotlib.pyplot as plt\n",
    "import matplotlib.image as img\n",
    "import cv2\n",
    "import random\n",
    "import os"
   ]
  },
  {
   "cell_type": "code",
   "execution_count": 2,
   "metadata": {},
   "outputs": [
    {
     "data": {
      "text/plain": [
       "('AAG', [0, 0, 2])"
      ]
     },
     "execution_count": 2,
     "metadata": {},
     "output_type": "execute_result"
    }
   ],
   "source": [
    "def DNA_nmbrs(bases, seq_length):\n",
    "    nucleotide = ''\n",
    "    base_combos = []\n",
    "    count = 0\n",
    "    while len(base_combos) != len(bases)**seq_length:\n",
    "        while len(nucleotide) < seq_length and len(nucleotide) != seq_length:\n",
    "            base = random.choice(bases)\n",
    "            nucleotide += base\n",
    "        if nucleotide not in base_combos:\n",
    "            base_combos.append((count, nucleotide))\n",
    "            nucleotide = ''\n",
    "            count += 1\n",
    "        if nucleotide in base_combos:\n",
    "            nucleotide = ''\n",
    "    return len(base_combos), base_combos\n",
    "                \n",
    "        \n",
    "def fib_seq(N,seq=[]):\n",
    "    if N == 0:\n",
    "        seq = [0]\n",
    "    elif N == 1:\n",
    "        seq = [0,1]\n",
    "    elif N > 1:\n",
    "        seq = [0,1]\n",
    "        for i in range(2,N):\n",
    "            next = seq[len(seq)-1] + seq[len(seq)-2]\n",
    "            seq.append(next)\n",
    "    return seq\n",
    "   \n",
    "        \n",
    "def mkDNA(length, alphabet):\n",
    "    if alphabet == 'STD':\n",
    "        bits = 'ATGC'\n",
    "    else:\n",
    "        bits = alphabet\n",
    "        \n",
    "    max_numb = len(bits)\n",
    "    lst = []\n",
    "    for i in range(0,max_numb):\n",
    "        lst.append(i)\n",
    "    \n",
    "    DNA = ''\n",
    "    for i in range(0,length):\n",
    "        select = random.choice(lst)\n",
    "        base = bits[select]\n",
    "        DNA += base\n",
    "    \n",
    "    return DNA\n",
    "\n",
    "def music_notes(alphabet):\n",
    "    if alphabet == 'STD':\n",
    "        alphabet = ['C','C#','D','D#','E','F','F#','G','G#','A','A#','B']\n",
    "    if alphabet == 'Expanded':\n",
    "        alphabet = ['R','C','C#','D','D#','E','E#','F','F#','G','G#','A','A#','B','B#','X']\n",
    "    music = []\n",
    "    for i in range(0, len(alphabet)):\n",
    "        music.append((i,alphabet[i]))\n",
    "    return music\n",
    "\n",
    "def quartenary(nmbr):\n",
    "    nmbr_dict = {0: \"A\", 1: \"C\", 2: \"G\", 3: \"T\"}\n",
    "    memory = []\n",
    "    nucleotides = []\n",
    "    if nmbr <= 3:\n",
    "            remainder = nmbr % 4\n",
    "            memory.append(0)\n",
    "            memory.append(0)\n",
    "            memory.append(remainder)\n",
    "    else:\n",
    "        fours = nmbr // 4\n",
    "        if fours <= 3:\n",
    "            memory.append(0)\n",
    "            memory.append(fours)\n",
    "            memory.append(nmbr % 4)\n",
    "        elif fours > 3:\n",
    "            sixteens = nmbr // 16\n",
    "            memory.append(sixteens)\n",
    "            remainder = nmbr % 16\n",
    "            if remainder == 0:\n",
    "                memory.append(0)\n",
    "                memory.append(0)\n",
    "            elif remainder > 0:\n",
    "                memory.append(round(remainder // 4))\n",
    "                memory.append(remainder % 4)\n",
    "    \n",
    "    for i in memory:\n",
    "        nucleotide = nmbr_dict[i]\n",
    "        nucleotides.append(nucleotide)\n",
    "    \n",
    "    codon = ''\n",
    "    for i in nucleotides:\n",
    "        codon += i\n",
    "        \n",
    "    return codon, memory\n",
    "\n",
    "def mltplr(numbr, points, multiplier):\n",
    "    modulus = len(points)\n",
    "    original = numbr % modulus\n",
    "    new = (numbr * multiplier) % modulus\n",
    "    if original == 0:\n",
    "        original = modulus\n",
    "    if new == 0:\n",
    "        new = modulus\n",
    "    for i in points:\n",
    "        if i[0] == original:\n",
    "            index1 = i[0]\n",
    "            DNA_codon1 = i[1]\n",
    "            music_note1 = i[2]\n",
    "        if i[0] == new:\n",
    "            index2 = i[0]\n",
    "            DNA_codon2 = i[1]\n",
    "            music_note2 = i[2]\n",
    "    seq = ''\n",
    "    for i in points:\n",
    "        if i[0] == abs(index2 - index1) % modulus:\n",
    "            seq = i[1]\n",
    "    if seq == '':\n",
    "        seq = points[modulus-1][1]\n",
    "    return (seq,(music_note1,music_note2))   \n",
    "    \n",
    "fib_seq(64)\n",
    "DNA_nmbrs(['A','T','C','G'],2)\n",
    "mkDNA(24,'STD')\n",
    "quartenary(2)\n"
   ]
  },
  {
   "cell_type": "code",
   "execution_count": 82,
   "metadata": {},
   "outputs": [
    {
     "data": {
      "text/plain": [
       "'TTTCACGATTCCACTCGCGGTAACATTGACTATACCCCTGGCAATATCCTTATCAATCCCGCTACCAGTCTCATTAACCATCGCACTAGCCGTCACTTTCACCGTAGCACTCGCCATAACATTCTCAGTACCGCTCCCAATATCCTTATCAATGGCCCTACCTATGACATTAACGGTCGCACTTCCGATCACTTTCACGATTCC'"
      ]
     },
     "execution_count": 82,
     "metadata": {},
     "output_type": "execute_result"
    }
   ],
   "source": [
    "codons = []\n",
    "for i in range(0,64):\n",
    "    codons.append((i,quartenary(i)[0]))\n",
    "\n",
    "notes = music_notes('Expanded')\n",
    "\n",
    "cdn_nmbr_nte = []\n",
    "count = 0\n",
    "countr = 0\n",
    "while count != len(codons):\n",
    "    code = (count+1, codons[count][1], notes[countr][1])\n",
    "    cdn_nmbr_nte.append(code)\n",
    "    count += 1\n",
    "    countr += 1\n",
    "    if countr == 16:\n",
    "         countr = 0\n",
    "            \n",
    "notes = []\n",
    "DNAseq = ''\n",
    "for i in range(0,68):\n",
    "    output = mltplr(i,cdn_nmbr_nte,83)\n",
    "    DNAseq += output[0]\n",
    "DNAseq"
   ]
  },
  {
   "cell_type": "code",
   "execution_count": 81,
   "metadata": {},
   "outputs": [
    {
     "data": {
      "text/plain": [
       "('AGG', ('G#', 'E'))"
      ]
     },
     "execution_count": 81,
     "metadata": {},
     "output_type": "execute_result"
    }
   ],
   "source": []
  }
 ],
 "metadata": {
  "kernelspec": {
   "display_name": "Python 3",
   "language": "python",
   "name": "python3"
  },
  "language_info": {
   "codemirror_mode": {
    "name": "ipython",
    "version": 3
   },
   "file_extension": ".py",
   "mimetype": "text/x-python",
   "name": "python",
   "nbconvert_exporter": "python",
   "pygments_lexer": "ipython3",
   "version": "3.7.1"
  }
 },
 "nbformat": 4,
 "nbformat_minor": 2
}
