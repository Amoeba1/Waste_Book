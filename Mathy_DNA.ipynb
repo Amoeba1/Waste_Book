{
 "cells": [
  {
   "cell_type": "code",
   "execution_count": 1,
   "metadata": {},
   "outputs": [],
   "source": [
    "import numpy as np\n",
    "import pandas as pd\n",
    "import matplotlib.pyplot as plt\n",
    "import matplotlib.image as img\n",
    "import cv2\n",
    "import random\n",
    "import os"
   ]
  },
  {
   "cell_type": "code",
   "execution_count": 192,
   "metadata": {},
   "outputs": [
    {
     "data": {
      "text/plain": [
       "'CTAACCTTAACAACTGAGGTCTAT'"
      ]
     },
     "execution_count": 192,
     "metadata": {},
     "output_type": "execute_result"
    }
   ],
   "source": [
    "def DNA_nmbrs(bases, seq_length):\n",
    "    nucleotide = ''\n",
    "    base_combos = []\n",
    "    count = 0\n",
    "    while len(base_combos) != len(bases)**seq_length:\n",
    "        while len(nucleotide) < seq_length and len(nucleotide) != seq_length:\n",
    "            base = random.choice(bases)\n",
    "            nucleotide += base\n",
    "        if nucleotide not in base_combos:\n",
    "            base_combos.append((count, nucleotide))\n",
    "            nucleotide = ''\n",
    "            count += 1\n",
    "        if nucleotide in base_combos:\n",
    "            nucleotide = ''\n",
    "    return len(base_combos), base_combos\n",
    "                \n",
    "        \n",
    "def fib_seq(N,seq=[]):\n",
    "    if N == 0:\n",
    "        seq = [0]\n",
    "    elif N == 1:\n",
    "        seq = [0,1]\n",
    "    elif N > 1:\n",
    "        seq = [0,1]\n",
    "        for i in range(2,N):\n",
    "            next = seq[len(seq)-1] + seq[len(seq)-2]\n",
    "            seq.append(next)\n",
    "    return seq\n",
    "   \n",
    "        \n",
    "def mkDNA(length, alphabet):\n",
    "    if alphabet == 'STD':\n",
    "        bits = 'ATGC'\n",
    "    else:\n",
    "        bits = alphabet\n",
    "        \n",
    "    max_numb = len(bits)\n",
    "    lst = []\n",
    "    for i in range(0,max_numb):\n",
    "        lst.append(i)\n",
    "    \n",
    "    DNA = ''\n",
    "    for i in range(0,length):\n",
    "        select = random.choice(lst)\n",
    "        base = bits[select]\n",
    "        DNA += base\n",
    "    \n",
    "    return DNA\n",
    "\n",
    "def music_notes(alphabet):\n",
    "    if alphabet == 'STD':\n",
    "        \n",
    "    if alphabet == 'Expanded':\n",
    "        alphabet = ['C','C#','D','D#','E','E#','F','F']\n",
    "\n",
    "fib_seq(64)\n",
    "DNA_nmbrs(['A','T','C','G'],2)\n",
    "mkDNA(24,'STD')\n",
    "\n",
    "# A = 0\n",
    "# T = 1\n",
    "# C = 2\n",
    "# G = 3\n",
    "# AAAA = 0, AAAT = 1, AAAC = 0002, ATGC = 0132"
   ]
  },
  {
   "cell_type": "code",
   "execution_count": 49,
   "metadata": {},
   "outputs": [
    {
     "data": {
      "text/plain": [
       "'CCA'"
      ]
     },
     "execution_count": 49,
     "metadata": {},
     "output_type": "execute_result"
    }
   ],
   "source": [
    "vals = {}\n",
    "vals['A'] = 3\n",
    "vals['T'] = 2\n",
    "vals['G'] = 1\n",
    "vals['C'] = 0\n",
    "\n",
    "DNA_nmbr(vals,3,3)"
   ]
  }
 ],
 "metadata": {
  "kernelspec": {
   "display_name": "Python 3",
   "language": "python",
   "name": "python3"
  },
  "language_info": {
   "codemirror_mode": {
    "name": "ipython",
    "version": 3
   },
   "file_extension": ".py",
   "mimetype": "text/x-python",
   "name": "python",
   "nbconvert_exporter": "python",
   "pygments_lexer": "ipython3",
   "version": "3.7.1"
  }
 },
 "nbformat": 4,
 "nbformat_minor": 2
}
